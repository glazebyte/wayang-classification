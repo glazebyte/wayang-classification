{
  "cells": [
    {
      "cell_type": "markdown",
      "metadata": {
        "id": "5GYQX3of4QiW"
      },
      "source": [
        "# YOLOv5 Classification Tutorial\n",
        "\n",
        "YOLOv5 supports classification tasks too. This is the official YOLOv5 classification notebook tutorial. YOLOv5 is maintained by [Ultralytics](https://github.com/ultralytics/yolov5).\n",
        "\n",
        "This notebook covers:\n",
        "\n",
        "*   Inference with out-of-the-box YOLOv5 classification on ImageNet\n",
        "*  [Training YOLOv5 classification](https://blog.roboflow.com//train-YOLOv5-classification-custom-data) on custom data\n",
        "\n",
        "*Looking for custom data? Explore over 66M community datasets on [Roboflow Universe](https://universe.roboflow.com).*\n",
        "\n",
        "This notebook was created with Google Colab. [Click here](https://colab.research.google.com/drive/1FiSNz9f_nT8aFtDEU3iDAQKlPT8SCVni?usp=sharing) to run it."
      ]
    },
    {
      "cell_type": "markdown",
      "metadata": {
        "id": "-PJ8vlYXbWtN"
      },
      "source": [
        "# Setup\n",
        "\n",
        "Pull in respective libraries to prepare the notebook environment."
      ]
    },
    {
      "cell_type": "code",
      "execution_count": null,
      "metadata": {
        "colab": {
          "base_uri": "https://localhost:8080/"
        },
        "id": "pIM7fOwm8A7l",
        "outputId": "7c4388ff-973e-4b62-f526-de575ce22641"
      },
      "outputs": [
        {
          "output_type": "stream",
          "name": "stderr",
          "text": [
            "YOLOv5 🚀 v7.0-347-gd6112173 Python-3.10.12 torch-2.3.1+cu121 CUDA:0 (NVIDIA L4, 22700MiB)\n"
          ]
        },
        {
          "output_type": "stream",
          "name": "stdout",
          "text": [
            "Setup complete ✅ (12 CPUs, 53.0 GB RAM, 30.2/78.2 GB disk)\n"
          ]
        }
      ],
      "source": [
        "!git clone https://github.com/ultralytics/yolov5  # clone\n",
        "%cd yolov5\n",
        "%pip install -qr requirements.txt  # install\n",
        "\n",
        "import torch\n",
        "import utils\n",
        "display = utils.notebook_init()  # checks"
      ]
    },
    {
      "cell_type": "markdown",
      "metadata": {
        "id": "i_DrUi2nmF40"
      },
      "source": [
        "# 1. Infer on ImageNet\n",
        "\n",
        "To demonstrate YOLOv5 classification, we'll leverage an already trained model. In this case, we'll download the ImageNet trained models pretrained on ImageNet using YOLOv5 Utils."
      ]
    },
    {
      "cell_type": "code",
      "execution_count": null,
      "metadata": {
        "colab": {
          "base_uri": "https://localhost:8080/"
        },
        "id": "o2scLEh6EYnL",
        "outputId": "e5a852dd-1ae6-4c7e-d168-c3a8680b7f36"
      },
      "outputs": [
        {
          "name": "stderr",
          "output_type": "stream",
          "text": [
            "Downloading https://github.com/ultralytics/yolov5/releases/download/v7.0/yolov5n-cls.pt to weights/yolov5n-cls.pt...\n",
            "100%|██████████| 4.87M/4.87M [00:00<00:00, 87.9MB/s]\n",
            "\n",
            "Downloading https://github.com/ultralytics/yolov5/releases/download/v7.0/yolov5s-cls.pt to weights/yolov5s-cls.pt...\n",
            "100%|██████████| 10.5M/10.5M [00:00<00:00, 161MB/s]\n",
            "\n",
            "Downloading https://github.com/ultralytics/yolov5/releases/download/v7.0/yolov5m-cls.pt to weights/yolov5m-cls.pt...\n",
            "100%|██████████| 24.9M/24.9M [00:00<00:00, 72.5MB/s]\n",
            "\n",
            "Downloading https://github.com/ultralytics/yolov5/releases/download/v7.0/yolov5l-cls.pt to weights/yolov5l-cls.pt...\n",
            "100%|██████████| 50.9M/50.9M [00:00<00:00, 288MB/s]\n",
            "\n",
            "Downloading https://github.com/ultralytics/yolov5/releases/download/v7.0/yolov5x-cls.pt to weights/yolov5x-cls.pt...\n",
            "100%|██████████| 92.0M/92.0M [00:00<00:00, 306MB/s]\n",
            "\n"
          ]
        }
      ],
      "source": [
        "from utils.downloads import attempt_download\n",
        "\n",
        "p5 = ['n', 's', 'm', 'l', 'x']  # P5 models\n",
        "cls = [f'{x}-cls' for x in p5]  # classification models\n",
        "\n",
        "for x in cls:\n",
        "    attempt_download(f'weights/yolov5{x}.pt')"
      ]
    },
    {
      "cell_type": "markdown",
      "metadata": {
        "id": "Fn2_a38DmZ2H"
      },
      "source": [
        "Now, we can infer on an example image from the ImageNet dataset."
      ]
    },
    {
      "cell_type": "code",
      "execution_count": null,
      "metadata": {
        "colab": {
          "base_uri": "https://localhost:8080/",
          "height": 382
        },
        "id": "L9objhVHnS-h",
        "outputId": "e4618e23-b933-4800-d49f-4595103d1ee6"
      },
      "outputs": [
        {
          "ename": "HTTPError",
          "evalue": "429 Client Error: Unknown Error for url: https://i.imgur.com/OczPfaz.jpg",
          "output_type": "error",
          "traceback": [
            "\u001b[0;31m---------------------------------------------------------------------------\u001b[0m",
            "\u001b[0;31mHTTPError\u001b[0m                                 Traceback (most recent call last)",
            "\u001b[0;32m<ipython-input-3-a588efd93992>\u001b[0m in \u001b[0;36m<cell line: 5>\u001b[0;34m()\u001b[0m\n\u001b[1;32m      3\u001b[0m \u001b[0mimage_url\u001b[0m \u001b[0;34m=\u001b[0m \u001b[0;34m\"https://i.imgur.com/OczPfaz.jpg\"\u001b[0m\u001b[0;34m\u001b[0m\u001b[0;34m\u001b[0m\u001b[0m\n\u001b[1;32m      4\u001b[0m \u001b[0mresponse\u001b[0m \u001b[0;34m=\u001b[0m \u001b[0mrequests\u001b[0m\u001b[0;34m.\u001b[0m\u001b[0mget\u001b[0m\u001b[0;34m(\u001b[0m\u001b[0mimage_url\u001b[0m\u001b[0;34m)\u001b[0m\u001b[0;34m\u001b[0m\u001b[0;34m\u001b[0m\u001b[0m\n\u001b[0;32m----> 5\u001b[0;31m \u001b[0mresponse\u001b[0m\u001b[0;34m.\u001b[0m\u001b[0mraise_for_status\u001b[0m\u001b[0;34m(\u001b[0m\u001b[0;34m)\u001b[0m\u001b[0;34m\u001b[0m\u001b[0;34m\u001b[0m\u001b[0m\n\u001b[0m\u001b[1;32m      6\u001b[0m \u001b[0;32mwith\u001b[0m \u001b[0mopen\u001b[0m\u001b[0;34m(\u001b[0m\u001b[0;34m'bananas.jpg'\u001b[0m\u001b[0;34m,\u001b[0m \u001b[0;34m'wb'\u001b[0m\u001b[0;34m)\u001b[0m \u001b[0;32mas\u001b[0m \u001b[0mhandler\u001b[0m\u001b[0;34m:\u001b[0m\u001b[0;34m\u001b[0m\u001b[0;34m\u001b[0m\u001b[0m\n\u001b[1;32m      7\u001b[0m     \u001b[0mhandler\u001b[0m\u001b[0;34m.\u001b[0m\u001b[0mwrite\u001b[0m\u001b[0;34m(\u001b[0m\u001b[0mresponse\u001b[0m\u001b[0;34m.\u001b[0m\u001b[0mcontent\u001b[0m\u001b[0;34m)\u001b[0m\u001b[0;34m\u001b[0m\u001b[0;34m\u001b[0m\u001b[0m\n",
            "\u001b[0;32m/usr/local/lib/python3.10/dist-packages/requests/models.py\u001b[0m in \u001b[0;36mraise_for_status\u001b[0;34m(self)\u001b[0m\n\u001b[1;32m   1022\u001b[0m \u001b[0;34m\u001b[0m\u001b[0m\n\u001b[1;32m   1023\u001b[0m         \u001b[0;32mif\u001b[0m \u001b[0mhttp_error_msg\u001b[0m\u001b[0;34m:\u001b[0m\u001b[0;34m\u001b[0m\u001b[0;34m\u001b[0m\u001b[0m\n\u001b[0;32m-> 1024\u001b[0;31m             \u001b[0;32mraise\u001b[0m \u001b[0mHTTPError\u001b[0m\u001b[0;34m(\u001b[0m\u001b[0mhttp_error_msg\u001b[0m\u001b[0;34m,\u001b[0m \u001b[0mresponse\u001b[0m\u001b[0;34m=\u001b[0m\u001b[0mself\u001b[0m\u001b[0;34m)\u001b[0m\u001b[0;34m\u001b[0m\u001b[0;34m\u001b[0m\u001b[0m\n\u001b[0m\u001b[1;32m   1025\u001b[0m \u001b[0;34m\u001b[0m\u001b[0m\n\u001b[1;32m   1026\u001b[0m     \u001b[0;32mdef\u001b[0m \u001b[0mclose\u001b[0m\u001b[0;34m(\u001b[0m\u001b[0mself\u001b[0m\u001b[0;34m)\u001b[0m\u001b[0;34m:\u001b[0m\u001b[0;34m\u001b[0m\u001b[0;34m\u001b[0m\u001b[0m\n",
            "\u001b[0;31mHTTPError\u001b[0m: 429 Client Error: Unknown Error for url: https://i.imgur.com/OczPfaz.jpg"
          ]
        }
      ],
      "source": [
        "#Download example image\n",
        "import requests\n",
        "image_url = \"https://i.imgur.com/OczPfaz.jpg\"\n",
        "response = requests.get(image_url)\n",
        "response.raise_for_status()\n",
        "with open('bananas.jpg', 'wb') as handler:\n",
        "    handler.write(response.content)"
      ]
    },
    {
      "cell_type": "code",
      "execution_count": null,
      "metadata": {
        "id": "qqxF5pHCrLd3"
      },
      "outputs": [],
      "source": [
        "#Infer using classify/predict.py\n",
        "!python classify/predict.py --weights ./weigths/yolov5s-cls.pt --source bananas.jpg"
      ]
    },
    {
      "cell_type": "markdown",
      "metadata": {
        "id": "yQmj7IXqo3kk"
      },
      "source": [
        "From the output, we can see the ImageNet trained model correctly predicts the class `banana` with `0.95` confidence."
      ]
    },
    {
      "cell_type": "markdown",
      "metadata": {
        "id": "5EosQzyDCk3W"
      },
      "source": [
        "## 2. (Optional) Validate\n",
        "\n",
        "Use the `classify/val.py` script to run validation for the model. This will show us the model's performance on each class.\n",
        "\n",
        "First, we need to download ImageNet."
      ]
    },
    {
      "cell_type": "code",
      "execution_count": null,
      "metadata": {
        "id": "HwAYptjCq-C_"
      },
      "outputs": [],
      "source": [
        "# # WARNING: takes ~20 minutes\n",
        "# !bash data/scripts/get_imagenet.sh --val"
      ]
    },
    {
      "cell_type": "code",
      "execution_count": null,
      "metadata": {
        "id": "CoHdKXWc8hrD"
      },
      "outputs": [],
      "source": [
        "# # run the validation script\n",
        "# !python classify/val.py --weights ./weigths/yolov5s-cls.pt --data ../datasets/imagenet"
      ]
    },
    {
      "cell_type": "markdown",
      "metadata": {
        "id": "r2coOcIjuzCO"
      },
      "source": [
        "The output shows accuracy metrics for the ImageNet validation dataset including per class accuracy."
      ]
    },
    {
      "cell_type": "markdown",
      "metadata": {
        "id": "9bXHHYeVDCXg"
      },
      "source": [
        "# 3. Train On Custom Data\n",
        "\n",
        "To train on custom data, we need to prepare a dataset with custom labels.\n",
        "\n",
        "To prepare custom data, we'll use [Roboflow](https://roboflow.com). Roboflow enables easy dataset prep with your team, including labeling, formatting into the right export format, deploying, and active learning with a `pip` package.\n",
        "\n",
        "If you need custom data, there are over 66M open source images from the community on [Roboflow Universe](https://universe.roboflow.com).\n",
        "\n",
        "(For more guidance, here's a detailed blog on [training YOLOv5 classification on custom data](https://blog.roboflow.com/train-YOLOv5-classification-custom-data).)\n",
        "\n",
        "\n",
        "Create a free Roboflow account, upload your data, and label.\n",
        "\n",
        "![](https://s4.gifyu.com/images/fruit-labeling.gif)"
      ]
    },
    {
      "cell_type": "markdown",
      "metadata": {
        "id": "Cu6-lrukD6Hc"
      },
      "source": [
        "### Load Custom Dataset\n",
        "\n",
        "Next, we'll export our dataset into the right directory structure for training YOLOv5 classification to load into this notebook. Select the `Export` button at the top of the version page, `Folder Structure` type, and `show download code`.\n",
        "\n",
        "The ensures all our directories are in the right format:\n",
        "\n",
        "```\n",
        "dataset\n",
        "├── train\n",
        "│   ├── class-one\n",
        "│   │   ├── IMG_123.jpg\n",
        "│   └── class-two\n",
        "│       ├── IMG_456.jpg\n",
        "├── valid\n",
        "│   ├── class-one\n",
        "│   │   ├── IMG_789.jpg\n",
        "│   └── class-two\n",
        "│       ├── IMG_101.jpg\n",
        "├── test\n",
        "│   ├── class-one\n",
        "│   │   ├── IMG_121.jpg\n",
        "│   └── class-two\n",
        "│       ├── IMG_341.jpg\n",
        "```\n",
        "\n",
        "![](https://i.imgur.com/BF9BNR8.gif)\n",
        "\n",
        "\n",
        "Copy and paste that snippet into the cell below."
      ]
    },
    {
      "cell_type": "code",
      "execution_count": null,
      "metadata": {
        "colab": {
          "base_uri": "https://localhost:8080/"
        },
        "id": "6IIgJbP7G6Th",
        "outputId": "26592c05-b9f1-4864-ee83-ab242bd4d0e9"
      },
      "outputs": [
        {
          "output_type": "stream",
          "name": "stdout",
          "text": [
            "/content/datasets\n"
          ]
        }
      ],
      "source": [
        "# Ensure we're in the right directory to download our custom dataset\n",
        "import os\n",
        "os.makedirs(\"../datasets/\", exist_ok=True)\n",
        "%cd ../datasets/"
      ]
    },
    {
      "cell_type": "code",
      "execution_count": null,
      "metadata": {
        "colab": {
          "background_save": true
        },
        "id": "zQfaToshMru1"
      },
      "outputs": [],
      "source": [
        "!rm -rf /content//datasets/wayang-classification-2"
      ]
    },
    {
      "cell_type": "code",
      "execution_count": null,
      "metadata": {
        "colab": {
          "base_uri": "https://localhost:8080/",
          "height": 967
        },
        "id": "He6JwHIlG-W_",
        "outputId": "85210e38-b67f-4089-ffe1-7cddbdf56c27"
      },
      "outputs": [
        {
          "output_type": "stream",
          "name": "stdout",
          "text": [
            "Collecting roboflow\n",
            "  Downloading roboflow-1.1.36-py3-none-any.whl.metadata (9.4 kB)\n",
            "Requirement already satisfied: certifi in /usr/local/lib/python3.10/dist-packages (from roboflow) (2024.7.4)\n",
            "Collecting chardet==4.0.0 (from roboflow)\n",
            "  Downloading chardet-4.0.0-py2.py3-none-any.whl.metadata (3.5 kB)\n",
            "Requirement already satisfied: idna==3.7 in /usr/local/lib/python3.10/dist-packages (from roboflow) (3.7)\n",
            "Requirement already satisfied: cycler in /usr/local/lib/python3.10/dist-packages (from roboflow) (0.12.1)\n",
            "Requirement already satisfied: kiwisolver>=1.3.1 in /usr/local/lib/python3.10/dist-packages (from roboflow) (1.4.5)\n",
            "Requirement already satisfied: matplotlib in /usr/local/lib/python3.10/dist-packages (from roboflow) (3.7.1)\n",
            "Requirement already satisfied: numpy>=1.18.5 in /usr/local/lib/python3.10/dist-packages (from roboflow) (1.25.2)\n",
            "Requirement already satisfied: opencv-python-headless==4.10.0.84 in /usr/local/lib/python3.10/dist-packages (from roboflow) (4.10.0.84)\n",
            "Requirement already satisfied: Pillow>=7.1.2 in /usr/local/lib/python3.10/dist-packages (from roboflow) (10.4.0)\n",
            "Requirement already satisfied: python-dateutil in /usr/local/lib/python3.10/dist-packages (from roboflow) (2.8.2)\n",
            "Collecting python-dotenv (from roboflow)\n",
            "  Downloading python_dotenv-1.0.1-py3-none-any.whl.metadata (23 kB)\n",
            "Requirement already satisfied: requests in /usr/local/lib/python3.10/dist-packages (from roboflow) (2.32.3)\n",
            "Requirement already satisfied: six in /usr/local/lib/python3.10/dist-packages (from roboflow) (1.16.0)\n",
            "Requirement already satisfied: urllib3>=1.26.6 in /usr/local/lib/python3.10/dist-packages (from roboflow) (2.0.7)\n",
            "Requirement already satisfied: tqdm>=4.41.0 in /usr/local/lib/python3.10/dist-packages (from roboflow) (4.66.4)\n",
            "Requirement already satisfied: PyYAML>=5.3.1 in /usr/local/lib/python3.10/dist-packages (from roboflow) (6.0.1)\n",
            "Collecting requests-toolbelt (from roboflow)\n",
            "  Downloading requests_toolbelt-1.0.0-py2.py3-none-any.whl.metadata (14 kB)\n",
            "Collecting filetype (from roboflow)\n",
            "  Downloading filetype-1.2.0-py2.py3-none-any.whl.metadata (6.5 kB)\n",
            "Requirement already satisfied: contourpy>=1.0.1 in /usr/local/lib/python3.10/dist-packages (from matplotlib->roboflow) (1.2.1)\n",
            "Requirement already satisfied: fonttools>=4.22.0 in /usr/local/lib/python3.10/dist-packages (from matplotlib->roboflow) (4.53.1)\n",
            "Requirement already satisfied: packaging>=20.0 in /usr/local/lib/python3.10/dist-packages (from matplotlib->roboflow) (24.1)\n",
            "Requirement already satisfied: pyparsing>=2.3.1 in /usr/local/lib/python3.10/dist-packages (from matplotlib->roboflow) (3.1.2)\n",
            "Requirement already satisfied: charset-normalizer<4,>=2 in /usr/local/lib/python3.10/dist-packages (from requests->roboflow) (3.3.2)\n",
            "Downloading roboflow-1.1.36-py3-none-any.whl (76 kB)\n",
            "\u001b[2K   \u001b[90m━━━━━━━━━━━━━━━━━━━━━━━━━━━━━━━━━━━━━━━━\u001b[0m \u001b[32m76.7/76.7 kB\u001b[0m \u001b[31m7.3 MB/s\u001b[0m eta \u001b[36m0:00:00\u001b[0m\n",
            "\u001b[?25hDownloading chardet-4.0.0-py2.py3-none-any.whl (178 kB)\n",
            "\u001b[2K   \u001b[90m━━━━━━━━━━━━━━━━━━━━━━━━━━━━━━━━━━━━━━━━\u001b[0m \u001b[32m178.7/178.7 kB\u001b[0m \u001b[31m16.8 MB/s\u001b[0m eta \u001b[36m0:00:00\u001b[0m\n",
            "\u001b[?25hDownloading filetype-1.2.0-py2.py3-none-any.whl (19 kB)\n",
            "Downloading python_dotenv-1.0.1-py3-none-any.whl (19 kB)\n",
            "Downloading requests_toolbelt-1.0.0-py2.py3-none-any.whl (54 kB)\n",
            "\u001b[2K   \u001b[90m━━━━━━━━━━━━━━━━━━━━━━━━━━━━━━━━━━━━━━━━\u001b[0m \u001b[32m54.5/54.5 kB\u001b[0m \u001b[31m5.6 MB/s\u001b[0m eta \u001b[36m0:00:00\u001b[0m\n",
            "\u001b[?25hInstalling collected packages: filetype, python-dotenv, chardet, requests-toolbelt, roboflow\n",
            "  Attempting uninstall: chardet\n",
            "    Found existing installation: chardet 5.2.0\n",
            "    Uninstalling chardet-5.2.0:\n",
            "      Successfully uninstalled chardet-5.2.0\n",
            "Successfully installed chardet-4.0.0 filetype-1.2.0 python-dotenv-1.0.1 requests-toolbelt-1.0.0 roboflow-1.1.36\n"
          ]
        },
        {
          "output_type": "display_data",
          "data": {
            "application/vnd.colab-display-data+json": {
              "pip_warning": {
                "packages": [
                  "chardet"
                ]
              },
              "id": "ab8396da3fdf4ee486ed12e8292e985a"
            }
          },
          "metadata": {}
        },
        {
          "output_type": "stream",
          "name": "stdout",
          "text": [
            "loading Roboflow workspace...\n",
            "loading Roboflow project...\n"
          ]
        },
        {
          "output_type": "stream",
          "name": "stderr",
          "text": [
            "Downloading Dataset Version Zip in wayang-classification-4 to folder:: 100%|██████████| 2438/2438 [00:01<00:00, 1655.65it/s]"
          ]
        },
        {
          "output_type": "stream",
          "name": "stdout",
          "text": [
            "\n"
          ]
        },
        {
          "output_type": "stream",
          "name": "stderr",
          "text": [
            "\n",
            "Extracting Dataset Version Zip to wayang-classification-4 in folder:: 100%|██████████| 255/255 [00:00<00:00, 9216.58it/s]\n"
          ]
        }
      ],
      "source": [
        "# REPLACE the below with your exported code snippet from above\n",
        "!pip install roboflow\n",
        "\n",
        "from roboflow import Roboflow\n",
        "rf = Roboflow(api_key=\"HU0KQOY2GSY0RRF4ye5w\")\n",
        "project = rf.workspace(\"wayang-cumb2\").project(\"wayang-classification\")\n",
        "version = project.version(4)\n",
        "dataset = version.download(\"folder\")"
      ]
    },
    {
      "cell_type": "code",
      "execution_count": null,
      "metadata": {
        "colab": {
          "base_uri": "https://localhost:8080/"
        },
        "id": "XsXiVzVNGOms",
        "outputId": "a2e2fe2d-d35d-44b8-8df8-4f550919d7d9"
      },
      "outputs": [
        {
          "output_type": "stream",
          "name": "stdout",
          "text": [
            "/content/yolov5\n"
          ]
        }
      ],
      "source": [
        "%cd /content/yolov5"
      ]
    },
    {
      "cell_type": "code",
      "execution_count": null,
      "metadata": {
        "id": "wLQbThFICpn4"
      },
      "outputs": [],
      "source": [
        "#Save the dataset name to the environment so we can use it in a system call later\n",
        "dataset_name = dataset.location.split(os.sep)[-1]\n",
        "os.environ[\"DATASET_NAME\"] = dataset_name"
      ]
    },
    {
      "cell_type": "markdown",
      "metadata": {
        "id": "-5z7Yv42FGrK"
      },
      "source": [
        "### Train On Custom Data 🎉\n",
        "Here, we use the DATASET_NAME environment variable to pass our dataset to the `--data` parameter.\n",
        "\n",
        "Note: we're training for 100 epochs here. We're also starting training from the pretrained weights. Larger datasets will likely benefit from longer training."
      ]
    },
    {
      "cell_type": "code",
      "execution_count": null,
      "metadata": {
        "colab": {
          "base_uri": "https://localhost:8080/"
        },
        "id": "MXWTTN2BEaqe",
        "outputId": "05828334-2c97-4723-96fe-2d493f02404e"
      },
      "outputs": [
        {
          "output_type": "stream",
          "name": "stdout",
          "text": [
            "2024-07-25 09:50:06.986070: E external/local_xla/xla/stream_executor/cuda/cuda_dnn.cc:9261] Unable to register cuDNN factory: Attempting to register factory for plugin cuDNN when one has already been registered\n",
            "2024-07-25 09:50:06.986122: E external/local_xla/xla/stream_executor/cuda/cuda_fft.cc:607] Unable to register cuFFT factory: Attempting to register factory for plugin cuFFT when one has already been registered\n",
            "2024-07-25 09:50:06.987697: E external/local_xla/xla/stream_executor/cuda/cuda_blas.cc:1515] Unable to register cuBLAS factory: Attempting to register factory for plugin cuBLAS when one has already been registered\n",
            "\u001b[34m\u001b[1mclassify/train: \u001b[0mmodel=yolov5m-cls.pt, data=wayang-classification-4, epochs=50, batch_size=64, imgsz=224, nosave=False, cache=None, device=, workers=8, project=runs/train-cls, name=exp, exist_ok=False, pretrained=weights/yolov5m-cls.pt, optimizer=Adam, lr0=0.001, decay=5e-05, label_smoothing=0.1, cutoff=None, dropout=None, verbose=False, seed=0, local_rank=-1\n",
            "\u001b[34m\u001b[1mgithub: \u001b[0mup to date with https://github.com/ultralytics/yolov5 ✅\n",
            "YOLOv5 🚀 v7.0-347-gd6112173 Python-3.10.12 torch-2.3.1+cu121 CUDA:0 (NVIDIA L4, 22700MiB)\n",
            "\n",
            "\u001b[34m\u001b[1mTensorBoard: \u001b[0mStart with 'tensorboard --logdir runs/train-cls', view at http://localhost:6006/\n",
            "\u001b[34m\u001b[1malbumentations: \u001b[0mRandomResizedCrop(p=1.0, height=224, width=224, scale=(0.08, 1.0), ratio=(0.75, 1.3333333333333333), interpolation=1), HorizontalFlip(p=0.5), ColorJitter(p=0.5, brightness=[0.6, 1.4], contrast=[0.6, 1.4], saturation=[0.6, 1.4], hue=[0, 0]), Normalize(p=1.0, mean=(0.485, 0.456, 0.406), std=(0.229, 0.224, 0.225), max_pixel_value=255.0), ToTensorV2(always_apply=True, p=1.0, transpose_mask=False)\n",
            "/usr/lib/python3.10/multiprocessing/popen_fork.py:66: RuntimeWarning: os.fork() was called. os.fork() is incompatible with multithreaded code, and JAX is multithreaded, so this will likely lead to a deadlock.\n",
            "  self.pid = os.fork()\n",
            "Model summary: 212 layers, 11684326 parameters, 11684326 gradients, 30.9 GFLOPs\n",
            "\u001b[34m\u001b[1moptimizer:\u001b[0m Adam(lr=0.001) with parameter groups 46 weight(decay=0.0), 47 weight(decay=5e-05), 47 bias\n",
            "Image sizes 224 train, 224 test\n",
            "Using 8 dataloader workers\n",
            "Logging results to \u001b[1mruns/train-cls/exp2\u001b[0m\n",
            "Starting yolov5m-cls.pt training on wayang-classification-4 dataset with 6 classes for 50 epochs...\n",
            "\n",
            "     Epoch   GPU_mem  train_loss  valid_loss    top1_acc    top5_acc\n",
            "      1/50     2.18G        2.21        1.79       0.149       0.809: 100% 3/3 [00:02<00:00,  1.49it/s]\n",
            "      2/50     2.18G        1.83        1.79        0.17       0.851: 100% 3/3 [00:00<00:00, 12.64it/s]\n",
            "      3/50     2.18G        1.88        1.79        0.17       0.851: 100% 3/3 [00:00<00:00, 12.53it/s]\n",
            "      4/50     2.18G        1.79        1.79        0.17       0.851: 100% 3/3 [00:00<00:00, 12.47it/s]\n",
            "      5/50     2.18G        1.72        1.79        0.17       0.851: 100% 3/3 [00:00<00:00, 12.52it/s]\n",
            "      6/50     2.18G        1.76         1.8        0.17       0.851: 100% 3/3 [00:00<00:00, 12.50it/s]\n",
            "      7/50     2.18G        1.72         1.8        0.17       0.851: 100% 3/3 [00:00<00:00, 12.44it/s]\n",
            "      8/50     2.18G        1.69         1.8        0.17       0.851: 100% 3/3 [00:00<00:00, 12.46it/s]\n",
            "      9/50     2.18G        1.66        1.79       0.298       0.915: 100% 3/3 [00:00<00:00, 12.50it/s]\n",
            "     10/50     2.18G         1.6        1.83       0.191        0.83: 100% 3/3 [00:00<00:00, 12.50it/s]\n",
            "     11/50     2.18G        1.65        1.82       0.298        0.83: 100% 3/3 [00:00<00:00, 12.10it/s]\n",
            "     12/50     2.18G        1.52        1.82       0.319        0.83: 100% 3/3 [00:00<00:00, 12.43it/s]\n",
            "     13/50     2.18G        1.61        1.86       0.191        0.83: 100% 3/3 [00:00<00:00, 12.37it/s]\n",
            "     14/50     2.18G        1.58        1.81       0.277        0.83: 100% 3/3 [00:00<00:00, 12.28it/s]\n",
            "     15/50     2.18G        1.59        1.66       0.362       0.915: 100% 3/3 [00:00<00:00, 12.53it/s]\n",
            "     16/50     2.18G        1.56        1.66       0.319       0.936: 100% 3/3 [00:00<00:00, 11.80it/s]\n",
            "     17/50     2.18G        1.47        1.73       0.319       0.915: 100% 3/3 [00:00<00:00, 12.17it/s]\n",
            "     18/50     2.18G        1.51         1.8       0.298       0.915: 100% 3/3 [00:00<00:00, 12.55it/s]\n",
            "     19/50     2.18G        1.58        1.76       0.298       0.915: 100% 3/3 [00:00<00:00, 12.55it/s]\n",
            "     20/50     2.18G        1.42        1.64       0.383       0.957: 100% 3/3 [00:00<00:00, 12.35it/s]\n",
            "     21/50     2.18G        1.51        1.64       0.362       0.915: 100% 3/3 [00:00<00:00, 12.55it/s]\n",
            "     22/50     2.18G        1.45        1.81        0.34       0.915: 100% 3/3 [00:00<00:00, 12.56it/s]\n",
            "     23/50     2.18G        1.52        1.82       0.277       0.915: 100% 3/3 [00:00<00:00, 12.60it/s]\n",
            "     24/50     2.18G        1.39        1.76       0.277       0.936: 100% 3/3 [00:00<00:00, 12.51it/s]\n",
            "     25/50     2.18G        1.45        1.71       0.383       0.915: 100% 3/3 [00:00<00:00, 12.60it/s]\n",
            "     26/50     2.18G        1.36        1.86       0.298       0.915: 100% 3/3 [00:00<00:00, 12.55it/s]\n",
            "     27/50     2.18G        1.43        1.71        0.34       0.915: 100% 3/3 [00:00<00:00, 12.47it/s]\n",
            "     28/50     2.18G        1.47        1.69       0.383       0.915: 100% 3/3 [00:00<00:00, 12.44it/s]\n",
            "     29/50     2.18G        1.42        1.64       0.383       0.957: 100% 3/3 [00:00<00:00, 12.58it/s]\n",
            "     30/50     2.18G        1.41        1.78        0.34       0.936: 100% 3/3 [00:00<00:00, 12.48it/s]\n",
            "     31/50     2.18G        1.47        1.93       0.362       0.915: 100% 3/3 [00:00<00:00, 12.47it/s]\n",
            "     32/50     2.18G        1.42         1.7       0.383       0.957: 100% 3/3 [00:00<00:00, 12.27it/s]\n",
            "     33/50     2.18G        1.33        1.58       0.404       0.936: 100% 3/3 [00:00<00:00, 12.50it/s]\n",
            "     34/50     2.18G        1.35        1.57       0.468       0.957: 100% 3/3 [00:00<00:00, 12.55it/s]\n",
            "     35/50     2.18G        1.41        1.66       0.511       0.957: 100% 3/3 [00:00<00:00, 12.47it/s]\n",
            "     36/50     2.18G        1.31        1.83       0.383       0.936: 100% 3/3 [00:00<00:00, 12.48it/s]\n",
            "     37/50     2.18G        1.35        1.65       0.511       0.936: 100% 3/3 [00:00<00:00, 12.61it/s]\n",
            "     38/50     2.18G        1.27        1.46       0.468       0.979: 100% 3/3 [00:00<00:00, 12.56it/s]\n",
            "     39/50     2.18G        1.36        1.43       0.553       0.979: 100% 3/3 [00:00<00:00, 12.67it/s]\n",
            "     40/50     2.18G        1.25        1.45       0.553       0.979: 100% 3/3 [00:00<00:00, 12.45it/s]\n",
            "     41/50     2.18G        1.32        1.55       0.489       0.957: 100% 3/3 [00:00<00:00, 11.64it/s]\n",
            "     42/50     2.18G        1.37        1.51       0.489       0.957: 100% 3/3 [00:00<00:00, 11.97it/s]\n",
            "     43/50     2.18G        1.34        1.47       0.532       0.979: 100% 3/3 [00:00<00:00, 12.04it/s]\n",
            "     44/50     2.18G        1.27        1.47       0.553       0.979: 100% 3/3 [00:00<00:00, 12.18it/s]\n",
            "     45/50     2.18G        1.23        1.49       0.532       0.979: 100% 3/3 [00:00<00:00, 11.92it/s]\n",
            "     46/50     2.18G        1.27        1.51       0.532       0.979: 100% 3/3 [00:00<00:00, 12.34it/s]\n",
            "     47/50     2.18G        1.22        1.52       0.553       0.979: 100% 3/3 [00:00<00:00, 12.51it/s]\n",
            "     48/50     2.18G        1.23        1.51       0.553       0.979: 100% 3/3 [00:00<00:00, 12.54it/s]\n",
            "     49/50     2.18G        1.23        1.49       0.553       0.979: 100% 3/3 [00:00<00:00, 12.34it/s]\n",
            "     50/50     2.18G        1.29        1.46       0.553       0.979: 100% 3/3 [00:00<00:00, 12.30it/s]\n",
            "\n",
            "Training complete (0.006 hours)\n",
            "Results saved to \u001b[1mruns/train-cls/exp2\u001b[0m\n",
            "Predict:         python classify/predict.py --weights runs/train-cls/exp2/weights/best.pt --source im.jpg\n",
            "Validate:        python classify/val.py --weights runs/train-cls/exp2/weights/best.pt --data /content/datasets/wayang-classification-4\n",
            "Export:          python export.py --weights runs/train-cls/exp2/weights/best.pt --include onnx\n",
            "PyTorch Hub:     model = torch.hub.load('ultralytics/yolov5', 'custom', 'runs/train-cls/exp2/weights/best.pt')\n",
            "Visualize:       https://netron.app\n",
            "\n"
          ]
        }
      ],
      "source": [
        "\n",
        "!python classify/train.py --model yolov5m-cls.pt --data $DATASET_NAME --epochs 50 --img 224 --pretrained weights/yolov5m-cls.pt"
      ]
    },
    {
      "cell_type": "markdown",
      "metadata": {
        "id": "HHUFGeLbGd98"
      },
      "source": [
        "### Validate Your Custom Model\n",
        "\n",
        "Repeat step 2 from above to test and validate your custom model."
      ]
    },
    {
      "cell_type": "code",
      "execution_count": null,
      "metadata": {
        "colab": {
          "base_uri": "https://localhost:8080/"
        },
        "id": "DIV7ydyKGZFL",
        "outputId": "9aa9ef5a-c59d-45af-9cdc-f3ec95b4c143"
      },
      "outputs": [
        {
          "output_type": "stream",
          "name": "stdout",
          "text": [
            "\u001b[34m\u001b[1mclassify/val: \u001b[0mdata=/content/datasets/wayang-classification-4, weights=['/content/yolov5/runs/train-cls/exp2/weights/best.pt'], batch_size=128, imgsz=224, device=, workers=8, verbose=True, project=runs/val-cls, name=exp, exist_ok=False, half=False, dnn=False\n",
            "YOLOv5 🚀 v7.0-347-gd6112173 Python-3.10.12 torch-2.3.1+cu121 CUDA:0 (NVIDIA L4, 22700MiB)\n",
            "\n",
            "Fusing layers... \n",
            "Model summary: 166 layers, 11673878 parameters, 0 gradients, 30.6 GFLOPs\n",
            "testing: 100% 1/1 [00:00<00:00,  1.76it/s]\n",
            "                   Class      Images    top1_acc    top5_acc\n",
            "                     all          23       0.478       0.913\n",
            "                   Beber           4           1           1\n",
            "                   Gedog           3       0.667           1\n",
            "                   Golek           4        0.25        0.75\n",
            "                  Krucil           4           0           1\n",
            "                   Kulit           5         0.8           1\n",
            "                   Suluh           3           0       0.667\n",
            "Speed: 0.1ms pre-process, 17.7ms inference, 1.5ms post-process per image at shape (1, 3, 224, 224)\n",
            "Results saved to \u001b[1mruns/val-cls/exp5\u001b[0m\n"
          ]
        }
      ],
      "source": [
        "!python classify/val.py --weights /content/yolov5/runs/train-cls/exp2/weights/best.pt --data /content/datasets/$DATASET_NAME"
      ]
    },
    {
      "cell_type": "markdown",
      "metadata": {
        "id": "uH5tJNpEsi6g"
      },
      "source": [
        "### Infer With Your Custom Model"
      ]
    },
    {
      "cell_type": "code",
      "execution_count": null,
      "metadata": {
        "colab": {
          "base_uri": "https://localhost:8080/"
        },
        "id": "zq4xQlUuJHAR",
        "outputId": "0df8a93f-0493-4b29-a230-3f0d99b0af77"
      },
      "outputs": [
        {
          "output_type": "stream",
          "name": "stdout",
          "text": [
            "\u001b[34m\u001b[1mclassify/predict: \u001b[0mweights=['/content/yolov5/runs/train-cls/exp2/weights/best.pt'], source=/content/datasets/wayang-classification-4/test/*/*.jpg, data=data/coco128.yaml, imgsz=[224, 224], device=, view_img=False, save_txt=True, nosave=False, augment=False, visualize=False, update=False, project=runs/predict-cls, name=exp, exist_ok=False, half=False, dnn=False, vid_stride=1\n",
            "YOLOv5 🚀 v7.0-347-gd6112173 Python-3.10.12 torch-2.3.1+cu121 CUDA:0 (NVIDIA L4, 22700MiB)\n",
            "\n",
            "Fusing layers... \n",
            "Model summary: 166 layers, 11673878 parameters, 0 gradients, 30.6 GFLOPs\n",
            "image 1/23 /content/datasets/wayang-classification-4/test/Beber/11-1_jpg.rf.fd65b38e83090845578a2bda285880e9.jpg: 224x224 Beber 0.94, Kulit 0.02, Krucil 0.02, Gedog 0.02, Golek 0.00, 4.5ms\n",
            "image 2/23 /content/datasets/wayang-classification-4/test/Beber/Wayang-Beber-Kesenian-Gunungkidul-Warisan-Eksentrik-dan-Eksotik_jpg.rf.ac0a4d9c7863721aeeace320aad942ac.jpg: 224x224 Beber 0.90, Kulit 0.03, Gedog 0.03, Krucil 0.03, Golek 0.01, 4.7ms\n",
            "image 3/23 /content/datasets/wayang-classification-4/test/Beber/maxresdefault_jpg.rf.586c0553acd521c27c140a8691a3f10b.jpg: 224x224 Beber 0.94, Krucil 0.03, Gedog 0.02, Kulit 0.01, Golek 0.01, 4.4ms\n",
            "image 4/23 /content/datasets/wayang-classification-4/test/Beber/wb-tradisi-2_jpg.rf.1dd2848b5b601c4d97c2c5bd7f86511b.jpg: 224x224 Beber 0.93, Kulit 0.02, Gedog 0.02, Krucil 0.02, Golek 0.00, 5.2ms\n",
            "image 5/23 /content/datasets/wayang-classification-4/test/Gedog/14-4-_2BPenyarikan_2B_2528wayang_2BJawa_2BTimuran_2529_jpg.rf.cf66a78a7bd380ea072595528e48c604.jpg: 224x224 Gedog 0.38, Kulit 0.32, Krucil 0.15, Beber 0.06, Suluh 0.06, 4.4ms\n",
            "image 6/23 /content/datasets/wayang-classification-4/test/Gedog/47-3-_2BPrajurit_2Bsabrangan_2B_2528wayang_2Bgedog_2529_jpg.rf.c8c0279c144ed42b2961847d594d5af0.jpg: 224x224 Gedog 0.39, Kulit 0.34, Krucil 0.13, Suluh 0.10, Golek 0.02, 4.3ms\n",
            "image 7/23 /content/datasets/wayang-classification-4/test/Gedog/8-12-_2BKertala_2Bataukah_2BBrajanata_jpg.rf.568576675e3bdab0f98ce898c33a51be.jpg: 224x224 Kulit 0.43, Gedog 0.24, Krucil 0.12, Beber 0.09, Suluh 0.08, 4.7ms\n",
            "image 8/23 /content/datasets/wayang-classification-4/test/Golek/24_WayangGolek_jpg.rf.1d1e34f82cc0ff7972ed73e0ad152246.jpg: 224x224 Kulit 0.39, Gedog 0.24, Beber 0.14, Krucil 0.13, Suluh 0.06, 4.2ms\n",
            "image 9/23 /content/datasets/wayang-classification-4/test/Golek/32_WayangGolek_jpg.rf.bc6f821173f101a9cb7fc67069c34816.jpg: 224x224 Gedog 0.29, Kulit 0.25, Suluh 0.22, Krucil 0.20, Golek 0.04, 4.3ms\n",
            "image 10/23 /content/datasets/wayang-classification-4/test/Golek/35_WayangGolek_jpg.rf.4ece88dd3342b70906c2db3f67667d65.jpg: 224x224 Krucil 0.29, Golek 0.19, Suluh 0.17, Gedog 0.13, Kulit 0.12, 4.3ms\n",
            "image 11/23 /content/datasets/wayang-classification-4/test/Golek/5_WayangGolek_jpg.rf.0cbe863b5a236e0792b46430afe3d2f6.jpg: 224x224 Golek 0.59, Krucil 0.19, Beber 0.12, Suluh 0.08, Gedog 0.02, 4.8ms\n",
            "image 12/23 /content/datasets/wayang-classification-4/test/Krucil/10_Krucil_jpg.rf.d801453697a1d8831ffdd36a3911476c.jpg: 224x224 Golek 0.55, Krucil 0.20, Beber 0.14, Suluh 0.08, Gedog 0.02, 4.2ms\n",
            "image 13/23 /content/datasets/wayang-classification-4/test/Krucil/26-Krucil_jpg.rf.1a527a7e70cd8b3d00449e0d2d27611a.jpg: 224x224 Kulit 0.47, Gedog 0.32, Krucil 0.12, Suluh 0.07, Beber 0.02, 4.3ms\n",
            "image 14/23 /content/datasets/wayang-classification-4/test/Krucil/34-Krucil_jpg.rf.9d2be16811462399c813eefeba52ece9.jpg: 224x224 Kulit 0.28, Beber 0.27, Gedog 0.18, Krucil 0.15, Suluh 0.06, 4.1ms\n",
            "image 15/23 /content/datasets/wayang-classification-4/test/Krucil/38-Krucil_jpg.rf.1177622361431efdd75439d4514d873f.jpg: 224x224 Kulit 0.39, Gedog 0.34, Krucil 0.15, Beber 0.05, Suluh 0.04, 4.2ms\n",
            "image 16/23 /content/datasets/wayang-classification-4/test/Kulit/agrasara_jpg.rf.a36520686cd774190660783e669fb0d3.jpg: 224x224 Kulit 0.48, Gedog 0.25, Beber 0.18, Krucil 0.06, Suluh 0.02, 4.2ms\n",
            "image 17/23 /content/datasets/wayang-classification-4/test/Kulit/baladeva_jpg.rf.ac302f71e37ca37ef9c9ff27c0aba8be.jpg: 224x224 Kulit 0.25, Beber 0.23, Gedog 0.22, Krucil 0.21, Golek 0.05, 4.1ms\n",
            "image 18/23 /content/datasets/wayang-classification-4/test/Kulit/batara-bayu_jpg.rf.914be1dbf668fbcea858006222138d3a.jpg: 224x224 Kulit 0.37, Gedog 0.33, Krucil 0.16, Beber 0.08, Suluh 0.04, 4.4ms\n",
            "image 19/23 /content/datasets/wayang-classification-4/test/Kulit/wy-raden-subali_jpg.rf.5b4a54d9c63e5a26b4869864bd22e6a8.jpg: 224x224 Beber 0.37, Gedog 0.25, Krucil 0.17, Kulit 0.16, Golek 0.03, 4.2ms\n",
            "image 20/23 /content/datasets/wayang-classification-4/test/Kulit/wy-raden-sugriwa_jpg.rf.b77e50b58ee317ddcb17b93ee69f0bf7.jpg: 224x224 Kulit 0.38, Gedog 0.28, Beber 0.15, Krucil 0.14, Suluh 0.03, 4.2ms\n",
            "image 21/23 /content/datasets/wayang-classification-4/test/Suluh/18_Suluh_jpg.rf.11b20f00c8bb36ce2d2c5f731e3f6c14.jpg: 224x224 Beber 0.67, Krucil 0.12, Gedog 0.06, Golek 0.06, Kulit 0.06, 4.2ms\n",
            "image 22/23 /content/datasets/wayang-classification-4/test/Suluh/25_Suluh_jpg.rf.e1b3e18bdeeba768447567c4e1e354d5.jpg: 224x224 Beber 0.33, Krucil 0.23, Golek 0.20, Suluh 0.09, Gedog 0.08, 4.2ms\n",
            "image 23/23 /content/datasets/wayang-classification-4/test/Suluh/28_Suluh_jpg.rf.8e27cf57ed19dd86a4ef223ee3d103d7.jpg: 224x224 Kulit 0.32, Gedog 0.27, Beber 0.18, Krucil 0.17, Suluh 0.04, 4.2ms\n",
            "Speed: 0.3ms pre-process, 4.3ms inference, 1.1ms NMS per image at shape (1, 3, 224, 224)\n",
            "Results saved to \u001b[1mruns/predict-cls/exp5\u001b[0m\n",
            "23 labels saved to runs/predict-cls/exp5/labels\n"
          ]
        }
      ],
      "source": [
        "\n",
        "# # Path ke set tes atau validasi\n",
        "# if os.path.exists(os.path.join(dataset.location, \"/content/datasets/wayang-classification-2/test/*/*.jpg\")):\n",
        "#     split_path = os.path.join(dataset.location, \"/content/datasets/wayang-classification-2/test/*/*.jpg\")\n",
        "# else:\n",
        "#     split_path = os.path.join(dataset.location, \"valid\")\n",
        "\n",
        "# # Simpan path set tes atau validasi ke variabel lingkungan\n",
        "# os.environ[\"TEST_IMAGE_DIR\"] = split_path\n",
        "\n",
        "# print(f\"Inferring on all images in '{split_path}'\")\n",
        "\n",
        "# Jalankan inferensi pada semua gambar dalam direktori\n",
        "!python classify/predict.py --weights /content/yolov5/runs/train-cls/exp2/weights/best.pt --source \"/content/datasets/wayang-classification-4/test/*/*.jpg\" --save-txt\n"
      ]
    },
    {
      "cell_type": "markdown",
      "metadata": {
        "id": "DdGuG-1kNjWT"
      },
      "source": [
        "We can see the inference results show ~3ms inference and the respective classes predicted probabilities."
      ]
    },
    {
      "cell_type": "code",
      "execution_count": null,
      "metadata": {
        "id": "fHRTj-2NGFNT"
      },
      "outputs": [],
      "source": [
        "import pathlib"
      ]
    },
    {
      "cell_type": "code",
      "execution_count": null,
      "metadata": {
        "colab": {
          "base_uri": "https://localhost:8080/"
        },
        "id": "0gGG_2dzMvbI",
        "outputId": "6cde7ed8-d704-4c7d-a0df-0e52923f7b35"
      },
      "outputs": [
        {
          "output_type": "stream",
          "name": "stdout",
          "text": [
            "['Golek', 'Golek', 'Golek', 'Golek', 'Krucil', 'Krucil', 'Krucil', 'Krucil', 'Suluh', 'Suluh', 'Suluh', 'Gedog', 'Gedog', 'Gedog', 'Kulit', 'Kulit', 'Kulit', 'Kulit', 'Kulit', 'Beber', 'Beber', 'Beber', 'Beber']\n",
            "['Kulit', 'Golek', 'Gedog', 'Krucil', 'Kulit', 'Golek', 'Kulit', 'Kulit', 'Beber', 'Kulit', 'Beber', 'Gedog', 'Kulit', 'Gedog', 'Beber', 'Kulit', 'Kulit', 'Kulit', 'Kulit', 'Beber', 'Beber', 'Beber', 'Beber']\n"
          ]
        }
      ],
      "source": [
        "import os\n",
        "import glob\n",
        "from sklearn.metrics import confusion_matrix, classification_report\n",
        "import matplotlib.pyplot as plt\n",
        "import seaborn as sns\n",
        "import numpy as np\n",
        "import pandas as pd\n",
        "\n",
        "# # Langkah 1: Tentukan path ke set tes atau validasi\n",
        "# if os.path.exists(os.path.join(dataset.location, \"test\")):\n",
        "#     split_path = os.path.join(dataset.location, \"test\")\n",
        "# # else:\n",
        "# #     split_path = os.path.join(dataset.location, \"valid\")\n",
        "\n",
        "# # # Menyimpan path set tes atau validasi ke variabel lingkungan\n",
        "# # os.environ[\"TEST_IMAGE_DIR\"] = split_path\n",
        "\n",
        "# # Jalankan inferensi pada semua gambar dalam direktori dan simpan prediksinya\n",
        "# !python classify/predict.py --weights ../best.pt --source $\"/content/datasets/wayang-classification-2/test/*/*.jpg\" --save-txt\n",
        "\n",
        "# # Langkah 2: Mengumpulkan prediksi dan label sebenarnya\n",
        "true_labels = []\n",
        "pred_labels = []\n",
        "\n",
        "# Memetakan nama kelas ke indeks\n",
        "# class_map = {class_name: idx for idx, class_name in enumerate(class_names)}\n",
        "\n",
        "# Baca file prediksi\n",
        "pred_files = glob.glob('/content/datasets/wayang-classification-4/test/*/*.jpg')\n",
        "for pred_file in pred_files:\n",
        "    file_name = pathlib.Path(pred_file).name\n",
        "    parent = pathlib.Path(pred_file).parent.name\n",
        "    true_label = parent\n",
        "    pred_file = \"/content/yolov5/runs/predict-cls/exp5/labels/\"+file_name.replace(\".jpg\", \".txt\")\n",
        "    # print(pred_file)\n",
        "    with open(pred_file, 'r') as f:\n",
        "          pred_line = f.readline().strip().split()\n",
        "          if pred_line: # Check if the line is not empty\n",
        "            pred_label = pred_line[1] # Get the first element (class index) and convert to integer\n",
        "            pred_labels.append(pred_label)\n",
        "\n",
        "    # Ambil label sebenarnya dari path file\n",
        "    true_labels.append(true_label)\n",
        "\n",
        "print(true_labels)\n",
        "print(pred_labels)"
      ]
    },
    {
      "cell_type": "code",
      "source": [
        "class_names = os.listdir(\"/content/datasets/wayang-classification-4/test\")"
      ],
      "metadata": {
        "id": "sTGvM-rGGiCV"
      },
      "execution_count": null,
      "outputs": []
    },
    {
      "cell_type": "code",
      "source": [
        "from sklearn.metrics import confusion_matrix, ConfusionMatrixDisplay\n",
        "\n",
        "# Buat confusion matrix\n",
        "cm =confusion_matrix(true_labels, pred_labels)\n",
        "disp = ConfusionMatrixDisplay(confusion_matrix=cm, display_labels=labels)\n",
        "disp.plot()"
      ],
      "metadata": {
        "colab": {
          "base_uri": "https://localhost:8080/",
          "height": 490
        },
        "id": "8osPkDMxHJTv",
        "outputId": "f99a2f69-b059-4c56-84b0-48067e29432f"
      },
      "execution_count": null,
      "outputs": [
        {
          "output_type": "execute_result",
          "data": {
            "text/plain": [
              "<sklearn.metrics._plot.confusion_matrix.ConfusionMatrixDisplay at 0x77fe35009d80>"
            ]
          },
          "metadata": {},
          "execution_count": 37
        },
        {
          "output_type": "display_data",
          "data": {
            "text/plain": [
              "<Figure size 640x480 with 2 Axes>"
            ],
            "image/png": "[encoded data removed]"
          },
          "metadata": {}
        }
      ]
    },
    {
      "cell_type": "code",
      "source": [
        "from sklearn.metrics import precision_score, recall_score, f1_score, accuracy_score\n",
        "import pandas as pd\n",
        "\n",
        "# Calculate the metrics\n",
        "precision = precision_score(true_labels, pred_labels, average=None)\n",
        "recall = recall_score(true_labels, pred_labels, average=None)\n",
        "f1 = f1_score(true_labels, pred_labels, average=None)\n",
        "accuracy = accuracy_score(true_labels, pred_labels)\n",
        "\n",
        "table_data = []\n",
        "labels = class_names\n",
        "for i in range(len(labels)):\n",
        "    label = labels[i]\n",
        "    table_data.append([label, precision[i], recall[i], f1[i]])\n",
        "table_data.append([\"Overall Accuracy\",'' , '', accuracy])\n",
        "\n",
        "# Create DataFrame\n",
        "df = pd.DataFrame(table_data, columns=[\"Class\", \"Precision\", \"Recall\", \"F1-Score\"])"
      ],
      "metadata": {
        "id": "s58xeDm3GI_W"
      },
      "execution_count": null,
      "outputs": []
    },
    {
      "cell_type": "code",
      "source": [
        "df"
      ],
      "metadata": {
        "colab": {
          "base_uri": "https://localhost:8080/",
          "height": 269
        },
        "id": "57TCeiAbHGpz",
        "outputId": "89eeab8a-b891-4e96-d020-5072c30c4a62"
      },
      "execution_count": null,
      "outputs": [
        {
          "output_type": "execute_result",
          "data": {
            "text/plain": [
              "              Class Precision    Recall  F1-Score\n",
              "0             Golek  0.571429       1.0  0.727273\n",
              "1            Krucil  0.666667  0.666667  0.666667\n",
              "2             Suluh       0.5      0.25  0.333333\n",
              "3             Gedog       0.0       0.0  0.000000\n",
              "4             Kulit       0.4       0.8  0.533333\n",
              "5             Beber       0.0       0.0  0.000000\n",
              "6  Overall Accuracy                      0.478261"
            ],
            "text/html": [
              "\n",
              "  <div id=\"df-a7d08925-3059-43e5-9662-6b85f3348e5c\" class=\"colab-df-container\">\n",
              "    <div>\n",
              "<style scoped>\n",
              "    .dataframe tbody tr th:only-of-type {\n",
              "        vertical-align: middle;\n",
              "    }\n",
              "\n",
              "    .dataframe tbody tr th {\n",
              "        vertical-align: top;\n",
              "    }\n",
              "\n",
              "    .dataframe thead th {\n",
              "        text-align: right;\n",
              "    }\n",
              "</style>\n",
              "<table border=\"1\" class=\"dataframe\">\n",
              "  <thead>\n",
              "    <tr style=\"text-align: right;\">\n",
              "      <th></th>\n",
              "      <th>Class</th>\n",
              "      <th>Precision</th>\n",
              "      <th>Recall</th>\n",
              "      <th>F1-Score</th>\n",
              "    </tr>\n",
              "  </thead>\n",
              "  <tbody>\n",
              "    <tr>\n",
              "      <th>0</th>\n",
              "      <td>Golek</td>\n",
              "      <td>0.571429</td>\n",
              "      <td>1.0</td>\n",
              "      <td>0.727273</td>\n",
              "    </tr>\n",
              "    <tr>\n",
              "      <th>1</th>\n",
              "      <td>Krucil</td>\n",
              "      <td>0.666667</td>\n",
              "      <td>0.666667</td>\n",
              "      <td>0.666667</td>\n",
              "    </tr>\n",
              "    <tr>\n",
              "      <th>2</th>\n",
              "      <td>Suluh</td>\n",
              "      <td>0.5</td>\n",
              "      <td>0.25</td>\n",
              "      <td>0.333333</td>\n",
              "    </tr>\n",
              "    <tr>\n",
              "      <th>3</th>\n",
              "      <td>Gedog</td>\n",
              "      <td>0.0</td>\n",
              "      <td>0.0</td>\n",
              "      <td>0.000000</td>\n",
              "    </tr>\n",
              "    <tr>\n",
              "      <th>4</th>\n",
              "      <td>Kulit</td>\n",
              "      <td>0.4</td>\n",
              "      <td>0.8</td>\n",
              "      <td>0.533333</td>\n",
              "    </tr>\n",
              "    <tr>\n",
              "      <th>5</th>\n",
              "      <td>Beber</td>\n",
              "      <td>0.0</td>\n",
              "      <td>0.0</td>\n",
              "      <td>0.000000</td>\n",
              "    </tr>\n",
              "    <tr>\n",
              "      <th>6</th>\n",
              "      <td>Overall Accuracy</td>\n",
              "      <td></td>\n",
              "      <td></td>\n",
              "      <td>0.478261</td>\n",
              "    </tr>\n",
              "  </tbody>\n",
              "</table>\n",
              "</div>\n",
              "    <div class=\"colab-df-buttons\">\n",
              "\n",
              "  <div class=\"colab-df-container\">\n",
              "    <button class=\"colab-df-convert\" onclick=\"convertToInteractive('df-a7d08925-3059-43e5-9662-6b85f3348e5c')\"\n",
              "            title=\"Convert this dataframe to an interactive table.\"\n",
              "            style=\"display:none;\">\n",
              "\n",
              "  <svg xmlns=\"http://www.w3.org/2000/svg\" height=\"24px\" viewBox=\"0 -960 960 960\">\n",
              "    <path d=\"M120-120v-720h720v720H120Zm60-500h600v-160H180v160Zm220 220h160v-160H400v160Zm0 220h160v-160H400v160ZM180-400h160v-160H180v160Zm440 0h160v-160H620v160ZM180-180h160v-160H180v160Zm440 0h160v-160H620v160Z\"/>\n",
              "  </svg>\n",
              "    </button>\n",
              "\n",
              "  <style>\n",
              "    .colab-df-container {\n",
              "      display:flex;\n",
              "      gap: 12px;\n",
              "    }\n",
              "\n",
              "    .colab-df-convert {\n",
              "      background-color: #E8F0FE;\n",
              "      border: none;\n",
              "      border-radius: 50%;\n",
              "      cursor: pointer;\n",
              "      display: none;\n",
              "      fill: #1967D2;\n",
              "      height: 32px;\n",
              "      padding: 0 0 0 0;\n",
              "      width: 32px;\n",
              "    }\n",
              "\n",
              "    .colab-df-convert:hover {\n",
              "      background-color: #E2EBFA;\n",
              "      box-shadow: 0px 1px 2px rgba(60, 64, 67, 0.3), 0px 1px 3px 1px rgba(60, 64, 67, 0.15);\n",
              "      fill: #174EA6;\n",
              "    }\n",
              "\n",
              "    .colab-df-buttons div {\n",
              "      margin-bottom: 4px;\n",
              "    }\n",
              "\n",
              "    [theme=dark] .colab-df-convert {\n",
              "      background-color: #3B4455;\n",
              "      fill: #D2E3FC;\n",
              "    }\n",
              "\n",
              "    [theme=dark] .colab-df-convert:hover {\n",
              "      background-color: #434B5C;\n",
              "      box-shadow: 0px 1px 3px 1px rgba(0, 0, 0, 0.15);\n",
              "      filter: drop-shadow(0px 1px 2px rgba(0, 0, 0, 0.3));\n",
              "      fill: #FFFFFF;\n",
              "    }\n",
              "  </style>\n",
              "\n",
              "    <script>\n",
              "      const buttonEl =\n",
              "        document.querySelector('#df-a7d08925-3059-43e5-9662-6b85f3348e5c button.colab-df-convert');\n",
              "      buttonEl.style.display =\n",
              "        google.colab.kernel.accessAllowed ? 'block' : 'none';\n",
              "\n",
              "      async function convertToInteractive(key) {\n",
              "        const element = document.querySelector('#df-a7d08925-3059-43e5-9662-6b85f3348e5c');\n",
              "        const dataTable =\n",
              "          await google.colab.kernel.invokeFunction('convertToInteractive',\n",
              "                                                    [key], {});\n",
              "        if (!dataTable) return;\n",
              "\n",
              "        const docLinkHtml = 'Like what you see? Visit the ' +\n",
              "          '<a target=\"_blank\" href=https://colab.research.google.com/notebooks/data_table.ipynb>data table notebook</a>'\n",
              "          + ' to learn more about interactive tables.';\n",
              "        element.innerHTML = '';\n",
              "        dataTable['output_type'] = 'display_data';\n",
              "        await google.colab.output.renderOutput(dataTable, element);\n",
              "        const docLink = document.createElement('div');\n",
              "        docLink.innerHTML = docLinkHtml;\n",
              "        element.appendChild(docLink);\n",
              "      }\n",
              "    </script>\n",
              "  </div>\n",
              "\n",
              "\n",
              "<div id=\"df-e3fcfb49-6885-4d05-9901-f9ca9082bb05\">\n",
              "  <button class=\"colab-df-quickchart\" onclick=\"quickchart('df-e3fcfb49-6885-4d05-9901-f9ca9082bb05')\"\n",
              "            title=\"Suggest charts\"\n",
              "            style=\"display:none;\">\n",
              "\n",
              "<svg xmlns=\"http://www.w3.org/2000/svg\" height=\"24px\"viewBox=\"0 0 24 24\"\n",
              "     width=\"24px\">\n",
              "    <g>\n",
              "        <path d=\"M19 3H5c-1.1 0-2 .9-2 2v14c0 1.1.9 2 2 2h14c1.1 0 2-.9 2-2V5c0-1.1-.9-2-2-2zM9 17H7v-7h2v7zm4 0h-2V7h2v10zm4 0h-2v-4h2v4z\"/>\n",
              "    </g>\n",
              "</svg>\n",
              "  </button>\n",
              "\n",
              "<style>\n",
              "  .colab-df-quickchart {\n",
              "      --bg-color: #E8F0FE;\n",
              "      --fill-color: #1967D2;\n",
              "      --hover-bg-color: #E2EBFA;\n",
              "      --hover-fill-color: #174EA6;\n",
              "      --disabled-fill-color: #AAA;\n",
              "      --disabled-bg-color: #DDD;\n",
              "  }\n",
              "\n",
              "  [theme=dark] .colab-df-quickchart {\n",
              "      --bg-color: #3B4455;\n",
              "      --fill-color: #D2E3FC;\n",
              "      --hover-bg-color: #434B5C;\n",
              "      --hover-fill-color: #FFFFFF;\n",
              "      --disabled-bg-color: #3B4455;\n",
              "      --disabled-fill-color: #666;\n",
              "  }\n",
              "\n",
              "  .colab-df-quickchart {\n",
              "    background-color: var(--bg-color);\n",
              "    border: none;\n",
              "    border-radius: 50%;\n",
              "    cursor: pointer;\n",
              "    display: none;\n",
              "    fill: var(--fill-color);\n",
              "    height: 32px;\n",
              "    padding: 0;\n",
              "    width: 32px;\n",
              "  }\n",
              "\n",
              "  .colab-df-quickchart:hover {\n",
              "    background-color: var(--hover-bg-color);\n",
              "    box-shadow: 0 1px 2px rgba(60, 64, 67, 0.3), 0 1px 3px 1px rgba(60, 64, 67, 0.15);\n",
              "    fill: var(--button-hover-fill-color);\n",
              "  }\n",
              "\n",
              "  .colab-df-quickchart-complete:disabled,\n",
              "  .colab-df-quickchart-complete:disabled:hover {\n",
              "    background-color: var(--disabled-bg-color);\n",
              "    fill: var(--disabled-fill-color);\n",
              "    box-shadow: none;\n",
              "  }\n",
              "\n",
              "  .colab-df-spinner {\n",
              "    border: 2px solid var(--fill-color);\n",
              "    border-color: transparent;\n",
              "    border-bottom-color: var(--fill-color);\n",
              "    animation:\n",
              "      spin 1s steps(1) infinite;\n",
              "  }\n",
              "\n",
              "  @keyframes spin {\n",
              "    0% {\n",
              "      border-color: transparent;\n",
              "      border-bottom-color: var(--fill-color);\n",
              "      border-left-color: var(--fill-color);\n",
              "    }\n",
              "    20% {\n",
              "      border-color: transparent;\n",
              "      border-left-color: var(--fill-color);\n",
              "      border-top-color: var(--fill-color);\n",
              "    }\n",
              "    30% {\n",
              "      border-color: transparent;\n",
              "      border-left-color: var(--fill-color);\n",
              "      border-top-color: var(--fill-color);\n",
              "      border-right-color: var(--fill-color);\n",
              "    }\n",
              "    40% {\n",
              "      border-color: transparent;\n",
              "      border-right-color: var(--fill-color);\n",
              "      border-top-color: var(--fill-color);\n",
              "    }\n",
              "    60% {\n",
              "      border-color: transparent;\n",
              "      border-right-color: var(--fill-color);\n",
              "    }\n",
              "    80% {\n",
              "      border-color: transparent;\n",
              "      border-right-color: var(--fill-color);\n",
              "      border-bottom-color: var(--fill-color);\n",
              "    }\n",
              "    90% {\n",
              "      border-color: transparent;\n",
              "      border-bottom-color: var(--fill-color);\n",
              "    }\n",
              "  }\n",
              "</style>\n",
              "\n",
              "  <script>\n",
              "    async function quickchart(key) {\n",
              "      const quickchartButtonEl =\n",
              "        document.querySelector('#' + key + ' button');\n",
              "      quickchartButtonEl.disabled = true;  // To prevent multiple clicks.\n",
              "      quickchartButtonEl.classList.add('colab-df-spinner');\n",
              "      try {\n",
              "        const charts = await google.colab.kernel.invokeFunction(\n",
              "            'suggestCharts', [key], {});\n",
              "      } catch (error) {\n",
              "        console.error('Error during call to suggestCharts:', error);\n",
              "      }\n",
              "      quickchartButtonEl.classList.remove('colab-df-spinner');\n",
              "      quickchartButtonEl.classList.add('colab-df-quickchart-complete');\n",
              "    }\n",
              "    (() => {\n",
              "      let quickchartButtonEl =\n",
              "        document.querySelector('#df-e3fcfb49-6885-4d05-9901-f9ca9082bb05 button');\n",
              "      quickchartButtonEl.style.display =\n",
              "        google.colab.kernel.accessAllowed ? 'block' : 'none';\n",
              "    })();\n",
              "  </script>\n",
              "</div>\n",
              "\n",
              "  <div id=\"id_4c6bfb35-159b-4bee-9f51-f4f38d88276d\">\n",
              "    <style>\n",
              "      .colab-df-generate {\n",
              "        background-color: #E8F0FE;\n",
              "        border: none;\n",
              "        border-radius: 50%;\n",
              "        cursor: pointer;\n",
              "        display: none;\n",
              "        fill: #1967D2;\n",
              "        height: 32px;\n",
              "        padding: 0 0 0 0;\n",
              "        width: 32px;\n",
              "      }\n",
              "\n",
              "      .colab-df-generate:hover {\n",
              "        background-color: #E2EBFA;\n",
              "        box-shadow: 0px 1px 2px rgba(60, 64, 67, 0.3), 0px 1px 3px 1px rgba(60, 64, 67, 0.15);\n",
              "        fill: #174EA6;\n",
              "      }\n",
              "\n",
              "      [theme=dark] .colab-df-generate {\n",
              "        background-color: #3B4455;\n",
              "        fill: #D2E3FC;\n",
              "      }\n",
              "\n",
              "      [theme=dark] .colab-df-generate:hover {\n",
              "        background-color: #434B5C;\n",
              "        box-shadow: 0px 1px 3px 1px rgba(0, 0, 0, 0.15);\n",
              "        filter: drop-shadow(0px 1px 2px rgba(0, 0, 0, 0.3));\n",
              "        fill: #FFFFFF;\n",
              "      }\n",
              "    </style>\n",
              "    <button class=\"colab-df-generate\" onclick=\"generateWithVariable('df')\"\n",
              "            title=\"Generate code using this dataframe.\"\n",
              "            style=\"display:none;\">\n",
              "\n",
              "  <svg xmlns=\"http://www.w3.org/2000/svg\" height=\"24px\"viewBox=\"0 0 24 24\"\n",
              "       width=\"24px\">\n",
              "    <path d=\"M7,19H8.4L18.45,9,17,7.55,7,17.6ZM5,21V16.75L18.45,3.32a2,2,0,0,1,2.83,0l1.4,1.43a1.91,1.91,0,0,1,.58,1.4,1.91,1.91,0,0,1-.58,1.4L9.25,21ZM18.45,9,17,7.55Zm-12,3A5.31,5.31,0,0,0,4.9,8.1,5.31,5.31,0,0,0,1,6.5,5.31,5.31,0,0,0,4.9,4.9,5.31,5.31,0,0,0,6.5,1,5.31,5.31,0,0,0,8.1,4.9,5.31,5.31,0,0,0,12,6.5,5.46,5.46,0,0,0,6.5,12Z\"/>\n",
              "  </svg>\n",
              "    </button>\n",
              "    <script>\n",
              "      (() => {\n",
              "      const buttonEl =\n",
              "        document.querySelector('#id_4c6bfb35-159b-4bee-9f51-f4f38d88276d button.colab-df-generate');\n",
              "      buttonEl.style.display =\n",
              "        google.colab.kernel.accessAllowed ? 'block' : 'none';\n",
              "\n",
              "      buttonEl.onclick = () => {\n",
              "        google.colab.notebook.generateWithVariable('df');\n",
              "      }\n",
              "      })();\n",
              "    </script>\n",
              "  </div>\n",
              "\n",
              "    </div>\n",
              "  </div>\n"
            ],
            "application/vnd.google.colaboratory.intrinsic+json": {
              "type": "dataframe",
              "variable_name": "df",
              "summary": "{\n  \"name\": \"df\",\n  \"rows\": 7,\n  \"fields\": [\n    {\n      \"column\": \"Class\",\n      \"properties\": {\n        \"dtype\": \"string\",\n        \"num_unique_values\": 7,\n        \"samples\": [\n          \"Golek\",\n          \"Krucil\",\n          \"Beber\"\n        ],\n        \"semantic_type\": \"\",\n        \"description\": \"\"\n      }\n    },\n    {\n      \"column\": \"Precision\",\n      \"properties\": {\n        \"dtype\": \"date\",\n        \"min\": \"1970-01-01 00:00:00\",\n        \"max\": \"1970-01-01 00:00:00\",\n        \"num_unique_values\": 6,\n        \"samples\": [\n          0.5714285714285714,\n          0.6666666666666666,\n          \"\"\n        ],\n        \"semantic_type\": \"\",\n        \"description\": \"\"\n      }\n    },\n    {\n      \"column\": \"Recall\",\n      \"properties\": {\n        \"dtype\": \"date\",\n        \"min\": \"1970-01-01 00:00:00\",\n        \"max\": \"1970-01-01 00:00:00.000000001\",\n        \"num_unique_values\": 6,\n        \"samples\": [\n          1.0,\n          0.6666666666666666,\n          \"\"\n        ],\n        \"semantic_type\": \"\",\n        \"description\": \"\"\n      }\n    },\n    {\n      \"column\": \"F1-Score\",\n      \"properties\": {\n        \"dtype\": \"number\",\n        \"std\": 0.2960944786943648,\n        \"min\": 0.0,\n        \"max\": 0.7272727272727273,\n        \"num_unique_values\": 6,\n        \"samples\": [\n          0.7272727272727273,\n          0.6666666666666666,\n          0.4782608695652174\n        ],\n        \"semantic_type\": \"\",\n        \"description\": \"\"\n      }\n    }\n  ]\n}"
            }
          },
          "metadata": {},
          "execution_count": 39
        }
      ]
    },
    {
      "cell_type": "markdown",
      "metadata": {
        "id": "I38IM6NXKNN9"
      },
      "source": [
        "## (OPTIONAL) Improve Our Model with Active Learning\n",
        "\n",
        "Now that we've trained our model once, we will want to continue to improve its performance. Improvement is largely dependent on improving our dataset.\n",
        "\n",
        "We can programmatically upload example failure images back to our custom dataset based on conditions (like seeing an underrpresented class or a low confidence score) using the same `pip` package."
      ]
    },
    {
      "cell_type": "code",
      "execution_count": null,
      "metadata": {
        "id": "HycgSEnYKo0J"
      },
      "outputs": [],
      "source": [
        "# # Upload example image\n",
        "# project.upload(image_path)\n"
      ]
    },
    {
      "cell_type": "code",
      "execution_count": null,
      "metadata": {
        "id": "VwXDoz_vLK3V"
      },
      "outputs": [],
      "source": [
        "# # Example upload code\n",
        "# min_conf = float(\"inf\")\n",
        "# for pred in results:\n",
        "#     if pred[\"score\"] < min_conf:\n",
        "#         min_conf = pred[\"score\"]\n",
        "# if min_conf < 0.4:\n",
        "#     project.upload(image_path)"
      ]
    },
    {
      "cell_type": "markdown",
      "metadata": {
        "id": "aYlfaHDusN-j"
      },
      "source": [
        "# (BONUS) YOLOv5 classify/predict.py Accepts Several Input Methods\n",
        "- Webcam: `python classify/predict.py --weights yolov5s-cls.pt --source 0`\n",
        "- Image `python classify/predict.py --weights yolov5s-cls.pt --source img.jpg`\n",
        "- Video: `python classify/predict.py --weights yolov5s-cls.pt --source vid.mp4`\n",
        "- Directory: `python classify/predict.py --weights yolov5s-cls.pt --source path/`\n",
        "- Glob: `python classify/predict.py --weights yolov5s-cls.pt --source 'path/*.jpg'`\n",
        "- YouTube: `python classify/predict.py --weights yolov5s-cls.pt --source 'https://youtu.be/Zgi9g1ksQHc'`\n",
        "- RTSP, RTMP, HTTP stream: `python classify/predict.py --weights yolov5s-cls.pt --source 'rtsp://example.com/media.mp4'`"
      ]
    },
    {
      "cell_type": "markdown",
      "metadata": {
        "id": "iKSP-SNTvcLJ"
      },
      "source": [
        "###Directory Example"
      ]
    },
    {
      "cell_type": "code",
      "execution_count": null,
      "metadata": {
        "id": "lwSoHcHcvjeD"
      },
      "outputs": [],
      "source": [
        "#Directory infer\n",
        "os.environ[\"TEST_CLASS_PATH\"] = test_class_path = os.path.join(*os.environ[\"TEST_IMAGE_PATH\"].split(os.sep)[:-1])\n",
        "print(f\"Infering on all images from the directory {os.environ['TEST_CLASS_PATH']}\")\n",
        "!python classify/predict.py --weights runs/train-cls/exp/weights/best.pt --source /$TEST_CLASS_PATH/"
      ]
    },
    {
      "cell_type": "markdown",
      "metadata": {
        "id": "kCCao9t8se8i"
      },
      "source": [
        "###YouTube Example"
      ]
    },
    {
      "cell_type": "code",
      "execution_count": null,
      "metadata": {
        "id": "heebjpJBsakV"
      },
      "outputs": [],
      "source": [
        "#YouTube infer\n",
        "!python classify/predict.py --weights runs/train-cls/exp/weights/best.pt --source 'https://www.youtube.com/watch?v=7AlYA4ItA74'"
      ]
    },
    {
      "cell_type": "code",
      "source": [
        "lr=2e-5\n",
        "valsa=f\"{lr:.5f}\"\n",
        "print(valsa)"
      ],
      "metadata": {
        "colab": {
          "base_uri": "https://localhost:8080/"
        },
        "id": "qm8rxsXZVdIx",
        "outputId": "da38f7e3-1e8f-4651-9728-d9dd431bc064"
      },
      "execution_count": null,
      "outputs": [
        {
          "output_type": "stream",
          "name": "stdout",
          "text": [
            "0.00002\n"
          ]
        }
      ]
    }
  ],
  "metadata": {
    "accelerator": "GPU",
    "colab": {
      "provenance": [],
      "gpuType": "L4"
    },
    "kernelspec": {
      "display_name": "Python 3",
      "name": "python3"
    },
    "language_info": {
      "name": "python"
    }
  },
  "nbformat": 4,
  "nbformat_minor": 0
}